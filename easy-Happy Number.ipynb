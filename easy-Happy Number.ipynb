{
 "cells": [
  {
   "cell_type": "code",
   "execution_count": null,
   "metadata": {},
   "outputs": [],
   "source": [
    "# the the sequence will end in an endless cycle of 4, 16, 37, 58, 89, 145, 42, 20, 4\n",
    "class Solution:\n",
    "    def isHappy(self, n: int) -> bool:\n",
    "        while n!=4:\n",
    "            out=0\n",
    "            for i in str(n):\n",
    "                out+=int(i)**2\n",
    "            if out==1:\n",
    "                return True\n",
    "            n=out\n",
    "        return False    "
   ]
  }
 ],
 "metadata": {
  "kernelspec": {
   "display_name": "Python 3",
   "language": "python",
   "name": "python3"
  },
  "language_info": {
   "codemirror_mode": {
    "name": "ipython",
    "version": 3
   },
   "file_extension": ".py",
   "mimetype": "text/x-python",
   "name": "python",
   "nbconvert_exporter": "python",
   "pygments_lexer": "ipython3",
   "version": "3.7.3"
  }
 },
 "nbformat": 4,
 "nbformat_minor": 2
}
