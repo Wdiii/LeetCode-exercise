{
 "cells": [
  {
   "cell_type": "code",
   "execution_count": null,
   "metadata": {},
   "outputs": [],
   "source": [
    "class Solution:\n",
    "    def canPlaceFlowers(self, flowerbed: List[int], n: int) -> bool:\n",
    "        flower = 0\n",
    "        i = 0\n",
    "        if flowerbed[-1] == 0:\n",
    "            flowerbed.append(0)\n",
    "        while i < len(flowerbed)-1:\n",
    "            if flowerbed[i] == 1:\n",
    "                if flowerbed[i+1] == 0:\n",
    "                    i += 2\n",
    "                else:\n",
    "                    i += 1\n",
    "            else:\n",
    "                if flowerbed[i+1] == 0:\n",
    "                    flower += 1\n",
    "                    i += 2\n",
    "                else:\n",
    "                    i += 1\n",
    "        if flower < n:\n",
    "            return False\n",
    "        return True "
   ]
  }
 ],
 "metadata": {
  "kernelspec": {
   "display_name": "Python 3",
   "language": "python",
   "name": "python3"
  },
  "language_info": {
   "codemirror_mode": {
    "name": "ipython",
    "version": 3
   },
   "file_extension": ".py",
   "mimetype": "text/x-python",
   "name": "python",
   "nbconvert_exporter": "python",
   "pygments_lexer": "ipython3",
   "version": "3.7.3"
  }
 },
 "nbformat": 4,
 "nbformat_minor": 2
}
