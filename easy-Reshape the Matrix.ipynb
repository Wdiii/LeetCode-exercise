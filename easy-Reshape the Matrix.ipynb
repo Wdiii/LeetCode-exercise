{
 "cells": [
  {
   "cell_type": "code",
   "execution_count": null,
   "metadata": {},
   "outputs": [],
   "source": [
    "class Solution:\n",
    "    def matrixReshape(self, nums: List[List[int]], r: int, c: int) -> List[List[int]]:\n",
    "        lst=[]\n",
    "        for i in nums:\n",
    "            for j in i:\n",
    "                lst.append(j)\n",
    "        if len(lst)!=r*c:\n",
    "            return nums\n",
    "        else:\n",
    "            matrix=[]\n",
    "            for m in range(0,len(lst),c):\n",
    "                matrix.append(lst[m:m+c])\n",
    "            return matrix"
   ]
  }
 ],
 "metadata": {
  "kernelspec": {
   "display_name": "Python 3",
   "language": "python",
   "name": "python3"
  },
  "language_info": {
   "codemirror_mode": {
    "name": "ipython",
    "version": 3
   },
   "file_extension": ".py",
   "mimetype": "text/x-python",
   "name": "python",
   "nbconvert_exporter": "python",
   "pygments_lexer": "ipython3",
   "version": "3.7.3"
  }
 },
 "nbformat": 4,
 "nbformat_minor": 2
}
