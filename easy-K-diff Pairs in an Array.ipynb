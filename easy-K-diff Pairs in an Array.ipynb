{
 "cells": [
  {
   "cell_type": "code",
   "execution_count": null,
   "metadata": {},
   "outputs": [],
   "source": [
    "class Solution:\n",
    "    def findPairs(self, nums: List[int], k: int) -> int:\n",
    "        nums.sort()\n",
    "        count = 0\n",
    "        left = 0\n",
    "        prev = None\n",
    "        for right in range(1, len(nums)):\n",
    "            while left < right and nums[right] - nums[left] > k:\n",
    "                left += 1\n",
    "            if left != right and nums[left] != prev and nums[right] - nums[left] == k:\n",
    "                count += 1\n",
    "                prev = nums[left]\n",
    "        return count"
   ]
  }
 ],
 "metadata": {
  "kernelspec": {
   "display_name": "Python 3",
   "language": "python",
   "name": "python3"
  },
  "language_info": {
   "codemirror_mode": {
    "name": "ipython",
    "version": 3
   },
   "file_extension": ".py",
   "mimetype": "text/x-python",
   "name": "python",
   "nbconvert_exporter": "python",
   "pygments_lexer": "ipython3",
   "version": "3.7.3"
  }
 },
 "nbformat": 4,
 "nbformat_minor": 2
}
