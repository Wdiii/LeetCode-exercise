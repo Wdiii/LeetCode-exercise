{
 "cells": [
  {
   "cell_type": "code",
   "execution_count": null,
   "metadata": {},
   "outputs": [],
   "source": [
    "class Solution:\n",
    "    def checkPossibility(self, nums: List[int]) -> bool:\n",
    "        count=0\n",
    "        for i in range(len(nums)-1):\n",
    "            if nums[i+1]<nums[i]:\n",
    "                count+=1\n",
    "                if i>0:\n",
    "                    if nums[i-1]<=nums[i+1]:\n",
    "                        nums[i]=nums[i-1]\n",
    "                    else:\n",
    "                        nums[i+1]=nums[i]\n",
    "        return count<=1    "
   ]
  }
 ],
 "metadata": {
  "kernelspec": {
   "display_name": "Python 3",
   "language": "python",
   "name": "python3"
  },
  "language_info": {
   "codemirror_mode": {
    "name": "ipython",
    "version": 3
   },
   "file_extension": ".py",
   "mimetype": "text/x-python",
   "name": "python",
   "nbconvert_exporter": "python",
   "pygments_lexer": "ipython3",
   "version": "3.7.3"
  }
 },
 "nbformat": 4,
 "nbformat_minor": 2
}
