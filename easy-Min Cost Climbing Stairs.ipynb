{
 "cells": [
  {
   "cell_type": "code",
   "execution_count": null,
   "metadata": {},
   "outputs": [],
   "source": [
    "class Solution:\n",
    "    def minCostClimbingStairs(self, cost: List[int]) -> int:\n",
    "        if len(cost)==2:\n",
    "            return min(cost)\n",
    "        else:\n",
    "            x = cost[0]\n",
    "            y = cost[1]\n",
    "            z = 0    \n",
    "            for i in range(2, len(cost)):\n",
    "                z = cost[i]+min(x,y)\n",
    "                x = y\n",
    "                y = z\n",
    "            return min(x,y)"
   ]
  }
 ],
 "metadata": {
  "kernelspec": {
   "display_name": "Python 3",
   "language": "python",
   "name": "python3"
  },
  "language_info": {
   "codemirror_mode": {
    "name": "ipython",
    "version": 3
   },
   "file_extension": ".py",
   "mimetype": "text/x-python",
   "name": "python",
   "nbconvert_exporter": "python",
   "pygments_lexer": "ipython3",
   "version": "3.7.3"
  }
 },
 "nbformat": 4,
 "nbformat_minor": 2
}
