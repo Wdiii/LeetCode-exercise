{
 "cells": [
  {
   "cell_type": "code",
   "execution_count": null,
   "metadata": {},
   "outputs": [],
   "source": [
    "class Solution:\n",
    "    def twoSum(self, numbers: List[int], target: int) -> List[int]: \n",
    "        n=len(numbers)\n",
    "        i=0\n",
    "        j=n-1\n",
    "        while i<j:\n",
    "            if numbers[i]+numbers[j]==target:\n",
    "                return [i+1,j+1]\n",
    "            elif numbers[i]+numbers[j]<target:\n",
    "                i+=1\n",
    "            else:\n",
    "                j-=1"
   ]
  }
 ],
 "metadata": {
  "kernelspec": {
   "display_name": "Python 3",
   "language": "python",
   "name": "python3"
  },
  "language_info": {
   "codemirror_mode": {
    "name": "ipython",
    "version": 3
   },
   "file_extension": ".py",
   "mimetype": "text/x-python",
   "name": "python",
   "nbconvert_exporter": "python",
   "pygments_lexer": "ipython3",
   "version": "3.7.3"
  }
 },
 "nbformat": 4,
 "nbformat_minor": 2
}
