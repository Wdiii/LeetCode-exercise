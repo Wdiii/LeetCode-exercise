{
 "cells": [
  {
   "cell_type": "code",
   "execution_count": null,
   "metadata": {},
   "outputs": [],
   "source": [
    "class Solution:\n",
    "    def findUnsortedSubarray(self, nums: List[int]) -> int:\n",
    "        lst=sorted(nums)\n",
    "        i=0\n",
    "        n=len(nums)\n",
    "        j=n-1\n",
    "        while i<=j:\n",
    "            if nums[i]==lst[i]:\n",
    "                i+=1\n",
    "            else:\n",
    "                if nums[j]==lst[j]:\n",
    "                    j-=1\n",
    "                else:\n",
    "                    break\n",
    "        return j+1-i"
   ]
  }
 ],
 "metadata": {
  "kernelspec": {
   "display_name": "Python 3",
   "language": "python",
   "name": "python3"
  },
  "language_info": {
   "codemirror_mode": {
    "name": "ipython",
    "version": 3
   },
   "file_extension": ".py",
   "mimetype": "text/x-python",
   "name": "python",
   "nbconvert_exporter": "python",
   "pygments_lexer": "ipython3",
   "version": "3.7.3"
  }
 },
 "nbformat": 4,
 "nbformat_minor": 2
}
