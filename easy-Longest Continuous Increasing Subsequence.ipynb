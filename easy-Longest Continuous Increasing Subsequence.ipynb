{
 "cells": [
  {
   "cell_type": "code",
   "execution_count": null,
   "metadata": {},
   "outputs": [],
   "source": [
    "class Solution:\n",
    "    def findLengthOfLCIS(self, nums: List[int]) -> int:\n",
    "        if len(nums)==0:\n",
    "            return 0\n",
    "        else:\n",
    "            count=1\n",
    "            temp=1\n",
    "            for i in range(len(nums)-1):\n",
    "                if nums[i]<nums[i+1]:\n",
    "                    temp+=1\n",
    "                else:\n",
    "                    count=max(temp,count)\n",
    "                    temp=1\n",
    "            return max(temp,count)"
   ]
  }
 ],
 "metadata": {
  "kernelspec": {
   "display_name": "Python 3",
   "language": "python",
   "name": "python3"
  },
  "language_info": {
   "codemirror_mode": {
    "name": "ipython",
    "version": 3
   },
   "file_extension": ".py",
   "mimetype": "text/x-python",
   "name": "python",
   "nbconvert_exporter": "python",
   "pygments_lexer": "ipython3",
   "version": "3.7.3"
  }
 },
 "nbformat": 4,
 "nbformat_minor": 2
}
