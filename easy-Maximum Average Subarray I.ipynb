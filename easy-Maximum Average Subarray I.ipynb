{
 "cells": [
  {
   "cell_type": "code",
   "execution_count": null,
   "metadata": {},
   "outputs": [],
   "source": [
    "class Solution:\n",
    "    def findMaxAverage(self, nums: List[int], k: int) -> float:\n",
    "        if k==1:\n",
    "            return max(nums)\n",
    "        s=sum(nums[:k])\n",
    "        maxS=s\n",
    "        if k>1:\n",
    "            for i in range(1,len(nums)-k+1):\n",
    "                head = nums[i-1]\n",
    "                tail = nums[i+k-1]\n",
    "                sub_sum = (s - head + tail)\n",
    "                s = sub_sum  \n",
    "                maxS=max(s,maxS)\n",
    "        return maxS/k"
   ]
  }
 ],
 "metadata": {
  "kernelspec": {
   "display_name": "Python 3",
   "language": "python",
   "name": "python3"
  },
  "language_info": {
   "codemirror_mode": {
    "name": "ipython",
    "version": 3
   },
   "file_extension": ".py",
   "mimetype": "text/x-python",
   "name": "python",
   "nbconvert_exporter": "python",
   "pygments_lexer": "ipython3",
   "version": "3.7.3"
  }
 },
 "nbformat": 4,
 "nbformat_minor": 2
}
