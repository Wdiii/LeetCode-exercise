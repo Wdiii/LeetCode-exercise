{
 "cells": [
  {
   "cell_type": "code",
   "execution_count": null,
   "metadata": {},
   "outputs": [],
   "source": [
    "class Solution:\n",
    "    def largeGroupPositions(self, S: str) -> List[List[int]]:\n",
    "        result=[]\n",
    "        j=0\n",
    "        count=1\n",
    "        for i in range(1,len(S)):\n",
    "            if S[i]==S[j]:\n",
    "                count+=1\n",
    "            else:\n",
    "                if count>=3:\n",
    "                    result.append([j,i-1])\n",
    "                j=i\n",
    "                count=1\n",
    "        if count>=3:\n",
    "            result.append([j,len(S)-1])\n",
    "        return result"
   ]
  }
 ],
 "metadata": {
  "kernelspec": {
   "display_name": "Python 3",
   "language": "python",
   "name": "python3"
  },
  "language_info": {
   "codemirror_mode": {
    "name": "ipython",
    "version": 3
   },
   "file_extension": ".py",
   "mimetype": "text/x-python",
   "name": "python",
   "nbconvert_exporter": "python",
   "pygments_lexer": "ipython3",
   "version": "3.7.3"
  }
 },
 "nbformat": 4,
 "nbformat_minor": 2
}
