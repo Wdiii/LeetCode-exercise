{
 "cells": [
  {
   "cell_type": "code",
   "execution_count": null,
   "metadata": {},
   "outputs": [],
   "source": [
    "class Solution:\n",
    "    def containsNearbyDuplicate(self, nums: List[int], k: int) -> bool:\n",
    "        if len(nums)==len(set(nums)):\n",
    "            return False\n",
    "        else:\n",
    "            n=len(nums)\n",
    "            for i in range(0,n):\n",
    "                for j in range(i+1,n):\n",
    "                    if nums[i]==nums[j]:\n",
    "                        if j-i<=k:\n",
    "                            return True\n",
    "            return False"
   ]
  }
 ],
 "metadata": {
  "kernelspec": {
   "display_name": "Python 3",
   "language": "python",
   "name": "python3"
  },
  "language_info": {
   "codemirror_mode": {
    "name": "ipython",
    "version": 3
   },
   "file_extension": ".py",
   "mimetype": "text/x-python",
   "name": "python",
   "nbconvert_exporter": "python",
   "pygments_lexer": "ipython3",
   "version": "3.7.3"
  }
 },
 "nbformat": 4,
 "nbformat_minor": 2
}
